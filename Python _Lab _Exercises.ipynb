{
 "cells": [
  {
   "cell_type": "markdown",
   "id": "167a602b-20e7-4cad-9551-587f47af29ce",
   "metadata": {},
   "source": [
    "##### import numpy package as np"
   ]
  },
  {
   "cell_type": "code",
   "execution_count": 2,
   "id": "049a1841-956e-473a-bc07-abba74b7d8b0",
   "metadata": {},
   "outputs": [],
   "source": [
    "import numpy as np"
   ]
  },
  {
   "cell_type": "markdown",
   "id": "a1da956d-6d14-4632-88ee-4ce105ffdaa7",
   "metadata": {},
   "source": [
    "##### create an empty array of 20 0's and replace the 4rth object with the number 5"
   ]
  },
  {
   "cell_type": "code",
   "execution_count": 7,
   "id": "3287b2c1-2db4-4f3b-85cb-94b048a7bbbb",
   "metadata": {},
   "outputs": [
    {
     "data": {
      "text/plain": [
       "array([0., 0., 0., 5., 0., 0., 0., 0., 0., 0., 0., 0., 0., 0., 0., 0., 0.,\n",
       "       0., 0., 0.])"
      ]
     },
     "execution_count": 7,
     "metadata": {},
     "output_type": "execute_result"
    }
   ],
   "source": [
    "a=np.zeros(20)\n",
    "a[3]=5\n",
    "a"
   ]
  },
  {
   "cell_type": "markdown",
   "id": "f4d6529f-867f-457f-995b-57c0de1bd056",
   "metadata": {},
   "source": [
    "##### create an array of 20 1's and store it as a variable named array_master. copy the same array into another variable named array_copy"
   ]
  },
  {
   "cell_type": "code",
   "execution_count": 10,
   "id": "e2421779-8317-47e1-9366-45b98575ba99",
   "metadata": {},
   "outputs": [
    {
     "data": {
      "text/plain": [
       "array([1., 1., 1., 1., 1., 1., 1., 1., 1., 1., 1., 1., 1., 1., 1., 1., 1.,\n",
       "       1., 1., 1.])"
      ]
     },
     "execution_count": 10,
     "metadata": {},
     "output_type": "execute_result"
    }
   ],
   "source": [
    "array_master= np.ones(20)\n",
    "array_copy=array_master.copy()\n",
    "array_copy"
   ]
  },
  {
   "cell_type": "markdown",
   "id": "d2842222-14f6-4038-8ad1-63bd04e8fa17",
   "metadata": {},
   "source": [
    "##### create an array containing 30 1's and broadcast all the one's to the value 100"
   ]
  },
  {
   "cell_type": "code",
   "execution_count": 13,
   "id": "1abd378b-5398-467b-ae73-03c0e877081a",
   "metadata": {},
   "outputs": [
    {
     "data": {
      "text/plain": [
       "array([100., 100., 100., 100., 100., 100., 100., 100., 100., 100., 100.,\n",
       "       100., 100., 100., 100., 100., 100., 100., 100., 100., 100., 100.,\n",
       "       100., 100., 100., 100., 100., 100., 100., 100.])"
      ]
     },
     "execution_count": 13,
     "metadata": {},
     "output_type": "execute_result"
    }
   ],
   "source": [
    "array=np.ones(30)\n",
    "array[:]=100\n",
    "array"
   ]
  },
  {
   "cell_type": "markdown",
   "id": "5573cf00-3ef0-4dc1-aa47-fb39d9b73e55",
   "metadata": {},
   "source": [
    "##### create an array of integers starting from 21 until 31 and name it array1\n",
    "##### create an array of integers starting from 11 until 21 and name it array2\n",
    "##### calculate the difference between array1 and array2"
   ]
  },
  {
   "cell_type": "code",
   "execution_count": 26,
   "id": "c12e76d4-df34-45d1-b03b-2386b80acd66",
   "metadata": {},
   "outputs": [
    {
     "data": {
      "text/plain": [
       "array([10, 10, 10, 10, 10, 10, 10, 10, 10, 10])"
      ]
     },
     "execution_count": 26,
     "metadata": {},
     "output_type": "execute_result"
    }
   ],
   "source": [
    "array1= np.arange(21,31)\n",
    "array2=np.arange(11,22)[:10]\n",
    "array1 - array2\n"
   ]
  },
  {
   "cell_type": "markdown",
   "id": "17a950bf-1308-45f6-a858-5bd13760ac10",
   "metadata": {},
   "source": [
    "##### create an array of all even integers from 2 to 10 and name it a1\n",
    "##### create an array of all even integers from 22 to 30 and name it a2\n",
    "##### a) use the 2 arrays as rows and create a matrix [hint-usestack function from numpy]"
   ]
  },
  {
   "cell_type": "code",
   "execution_count": 29,
   "id": "e10d776c-819d-4120-8d87-010935b2bd8e",
   "metadata": {},
   "outputs": [
    {
     "data": {
      "text/plain": [
       "array([[ 2,  4,  6,  8, 10],\n",
       "       [22, 24, 26, 28, 30]])"
      ]
     },
     "execution_count": 29,
     "metadata": {},
     "output_type": "execute_result"
    }
   ],
   "source": [
    "a1=np.arange(2,11,2)\n",
    "a2=np.arange(22,31,2)\n",
    "np.stack((a1,a2))\n"
   ]
  },
  {
   "cell_type": "markdown",
   "id": "62368c03-bc96-4dde-b9a1-6d03ca53b200",
   "metadata": {},
   "source": [
    "##### b) use the 2 arrays as columns and create a matrix[hint- use column_stack function from numpy]"
   ]
  },
  {
   "cell_type": "code",
   "execution_count": 34,
   "id": "83da94d0-918b-4895-9c57-6ef9a2e1ed92",
   "metadata": {},
   "outputs": [
    {
     "data": {
      "text/plain": [
       "array([[ 2, 22],\n",
       "       [ 4, 24],\n",
       "       [ 6, 26],\n",
       "       [ 8, 28],\n",
       "       [10, 30]])"
      ]
     },
     "execution_count": 34,
     "metadata": {},
     "output_type": "execute_result"
    }
   ],
   "source": [
    "np.column_stack((a1,a2))"
   ]
  },
  {
   "cell_type": "markdown",
   "id": "5619dbec-699a-4abd-991b-3cd512f6672a",
   "metadata": {},
   "source": [
    "##### create a 5*6 matrix with values ranging from 0 to 29 and retrieve  the value intersecting at 2 nd row and 3rd column"
   ]
  },
  {
   "cell_type": "code",
   "execution_count": 40,
   "id": "29b3cfc1-8459-43b8-8fe9-8cc0031b6299",
   "metadata": {},
   "outputs": [
    {
     "data": {
      "text/plain": [
       "8"
      ]
     },
     "execution_count": 40,
     "metadata": {},
     "output_type": "execute_result"
    }
   ],
   "source": [
    "array_matrix=np.arange(30).reshape(5,6)\n",
    "array_matrix[1,2]"
   ]
  },
  {
   "cell_type": "markdown",
   "id": "a172ebff-14bd-4f19-b36b-20ac5a1a360c",
   "metadata": {},
   "source": [
    "##### create an identity matrix of shape 10*10 and replace the 0's with the value 21"
   ]
  },
  {
   "cell_type": "code",
   "execution_count": 43,
   "id": "8c346277-88cd-4470-8dc5-0fea18465951",
   "metadata": {},
   "outputs": [
    {
     "data": {
      "text/plain": [
       "array([[ 1., 21., 21., 21., 21., 21., 21., 21., 21., 21.],\n",
       "       [21.,  1., 21., 21., 21., 21., 21., 21., 21., 21.],\n",
       "       [21., 21.,  1., 21., 21., 21., 21., 21., 21., 21.],\n",
       "       [21., 21., 21.,  1., 21., 21., 21., 21., 21., 21.],\n",
       "       [21., 21., 21., 21.,  1., 21., 21., 21., 21., 21.],\n",
       "       [21., 21., 21., 21., 21.,  1., 21., 21., 21., 21.],\n",
       "       [21., 21., 21., 21., 21., 21.,  1., 21., 21., 21.],\n",
       "       [21., 21., 21., 21., 21., 21., 21.,  1., 21., 21.],\n",
       "       [21., 21., 21., 21., 21., 21., 21., 21.,  1., 21.],\n",
       "       [21., 21., 21., 21., 21., 21., 21., 21., 21.,  1.]])"
      ]
     },
     "execution_count": 43,
     "metadata": {},
     "output_type": "execute_result"
    }
   ],
   "source": [
    "arr=np.eye(10)\n",
    "arr[arr==0]=21\n",
    "arr"
   ]
  },
  {
   "cell_type": "markdown",
   "id": "4dc31f0e-c4bd-4c29-ba0d-eafd36021351",
   "metadata": {},
   "source": [
    "##### use numpy to generate a random set of 10 numbers between 0 and 1\n",
    "##### display a boolean array output where all values>0.2 are True , rest are marked as False"
   ]
  },
  {
   "cell_type": "code",
   "execution_count": 46,
   "id": "1fd0b8fd-6b48-4f91-bd60-8c2bbf52803f",
   "metadata": {},
   "outputs": [
    {
     "data": {
      "text/plain": [
       "array([ True, False,  True,  True,  True,  True,  True,  True,  True,\n",
       "        True])"
      ]
     },
     "execution_count": 46,
     "metadata": {},
     "output_type": "execute_result"
    }
   ],
   "source": [
    "ar=np.random.rand(10)\n",
    "ar>0.2"
   ]
  },
  {
   "cell_type": "markdown",
   "id": "90f1f218-f28d-49bb-b509-627eff955dca",
   "metadata": {},
   "source": [
    "##### use numpy to generate an array matrix of 5*2 random numbers sampled from a standard normal distribution "
   ]
  },
  {
   "cell_type": "code",
   "execution_count": 49,
   "id": "21ba26bf-4bd8-4458-b993-508d5674959d",
   "metadata": {},
   "outputs": [
    {
     "data": {
      "text/plain": [
       "array([[ 0.01311459, -1.25857659],\n",
       "       [ 0.79620612,  1.07439517],\n",
       "       [ 1.29455891,  0.13809063],\n",
       "       [ 0.22588287, -0.61222366],\n",
       "       [-0.6799197 , -0.1233215 ]])"
      ]
     },
     "execution_count": 49,
     "metadata": {},
     "output_type": "execute_result"
    }
   ],
   "source": [
    "np.random.randn(5,2)"
   ]
  },
  {
   "cell_type": "markdown",
   "id": "35b04edf-ab49-4e62-92ca-847d41a56529",
   "metadata": {},
   "source": [
    "##### create an array of 30 linearly spaced points between 0 and 100"
   ]
  },
  {
   "cell_type": "code",
   "execution_count": 52,
   "id": "878fa6a5-9a8e-41d5-bf04-5f5f0e58fd87",
   "metadata": {},
   "outputs": [
    {
     "data": {
      "text/plain": [
       "array([  0.        ,   3.44827586,   6.89655172,  10.34482759,\n",
       "        13.79310345,  17.24137931,  20.68965517,  24.13793103,\n",
       "        27.5862069 ,  31.03448276,  34.48275862,  37.93103448,\n",
       "        41.37931034,  44.82758621,  48.27586207,  51.72413793,\n",
       "        55.17241379,  58.62068966,  62.06896552,  65.51724138,\n",
       "        68.96551724,  72.4137931 ,  75.86206897,  79.31034483,\n",
       "        82.75862069,  86.20689655,  89.65517241,  93.10344828,\n",
       "        96.55172414, 100.        ])"
      ]
     },
     "execution_count": 52,
     "metadata": {},
     "output_type": "execute_result"
    }
   ],
   "source": [
    "np.linspace(0,100,30)"
   ]
  },
  {
   "cell_type": "code",
   "execution_count": 54,
   "id": "4c0b4c2c-6195-4769-99c4-89a2d8d5c439",
   "metadata": {},
   "outputs": [],
   "source": [
    "\n",
    "\n",
    "\n",
    "#####numpy indexing and selections"
   ]
  },
  {
   "cell_type": "code",
   "execution_count": 71,
   "id": "68a0d179-5ac5-4813-8d60-39e543ec2be0",
   "metadata": {},
   "outputs": [
    {
     "name": "stdout",
     "output_type": "stream",
     "text": [
      "[[  1   2   3   4   5   6   7   8   9  10]\n",
      " [ 11  12  13  14  15  16  17  18  19  20]\n",
      " [ 21  22  23  24  25  26  27  28  29  30]\n",
      " [ 31  32  33  34  35  36  37  38  39  40]\n",
      " [ 41  42  43  44  45  46  47  48  49  50]\n",
      " [ 51  52  53  54  55  56  57  58  59  60]\n",
      " [ 61  62  63  64  65  66  67  68  69  70]\n",
      " [ 71  72  73  74  75  76  77  78  79  80]\n",
      " [ 81  82  83  84  85  86  87  88  89  90]\n",
      " [ 91  92  93  94  95  96  97  98  99 100]]\n"
     ]
    }
   ],
   "source": [
    "import numpy as np\n",
    "simple_matrix=np.arange(1,101).reshape(10,10)\n",
    "print(simple_matrix)"
   ]
  },
  {
   "cell_type": "markdown",
   "id": "e125be15-4510-4fb3-bed6-c4f03d66d5a2",
   "metadata": {},
   "source": [
    "##### a) retrieve the last 2 rows and first 3 columns values of the above matrix using index and selection technique"
   ]
  },
  {
   "cell_type": "code",
   "execution_count": 74,
   "id": "078901b3-80aa-431b-b242-5cefeef62bc5",
   "metadata": {},
   "outputs": [
    {
     "data": {
      "text/plain": [
       "array([[81, 82, 83],\n",
       "       [91, 92, 93]])"
      ]
     },
     "execution_count": 74,
     "metadata": {},
     "output_type": "execute_result"
    }
   ],
   "source": [
    "simple_matrix[8:,0:3]"
   ]
  },
  {
   "cell_type": "markdown",
   "id": "856ba34e-e5db-449f-a88a-ae698ac63963",
   "metadata": {},
   "source": [
    "##### b) retrieve the value 55 from the above matrix using index and selection technique"
   ]
  },
  {
   "cell_type": "code",
   "execution_count": 79,
   "id": "57970a59-769e-4c56-93bd-568dde915b6b",
   "metadata": {},
   "outputs": [
    {
     "data": {
      "text/plain": [
       "55"
      ]
     },
     "execution_count": 79,
     "metadata": {},
     "output_type": "execute_result"
    }
   ],
   "source": [
    "simple_matrix[5,4]"
   ]
  },
  {
   "cell_type": "markdown",
   "id": "8b18c720-d5b4-4535-b7e7-eefec35389b4",
   "metadata": {},
   "source": [
    "##### c) retrieve the values from the 3rd column in the above matrix "
   ]
  },
  {
   "cell_type": "code",
   "execution_count": 84,
   "id": "bdd90c0a-be6f-40d1-aa4b-1cecb009df2d",
   "metadata": {},
   "outputs": [
    {
     "data": {
      "text/plain": [
       "array([ 3, 13, 23, 33, 43, 53, 63, 73, 83, 93])"
      ]
     },
     "execution_count": 84,
     "metadata": {},
     "output_type": "execute_result"
    }
   ],
   "source": [
    "simple_matrix[:,2]"
   ]
  },
  {
   "cell_type": "markdown",
   "id": "a4d48a60-623a-4910-919e-7803ccca2ab8",
   "metadata": {},
   "source": [
    "##### d) retrieve the values from the 4rth row in the above matrix"
   ]
  },
  {
   "cell_type": "code",
   "execution_count": 87,
   "id": "d3a10bef-5b9a-44aa-9019-a9d4dbdae571",
   "metadata": {},
   "outputs": [
    {
     "data": {
      "text/plain": [
       "array([31, 32, 33, 34, 35, 36, 37, 38, 39, 40])"
      ]
     },
     "execution_count": 87,
     "metadata": {},
     "output_type": "execute_result"
    }
   ],
   "source": [
    "simple_matrix[3,:]"
   ]
  },
  {
   "cell_type": "markdown",
   "id": "826c7415-0ba3-40b1-a2db-9a7e36a6023c",
   "metadata": {},
   "source": [
    "##### e) retrieve values from the 2 nd and 4rth rows in the above matrix\n"
   ]
  },
  {
   "cell_type": "code",
   "execution_count": 92,
   "id": "09a7e507-b8c9-4e2f-9011-4fce5729bef5",
   "metadata": {},
   "outputs": [
    {
     "data": {
      "text/plain": [
       "array([[21, 22, 23, 24, 25, 26, 27, 28, 29, 30],\n",
       "       [41, 42, 43, 44, 45, 46, 47, 48, 49, 50]])"
      ]
     },
     "execution_count": 92,
     "metadata": {},
     "output_type": "execute_result"
    }
   ],
   "source": [
    "simple_matrix[(2,4),:]"
   ]
  },
  {
   "cell_type": "code",
   "execution_count": 94,
   "id": "3891a256-e733-44ec-b474-3b593f072ab4",
   "metadata": {},
   "outputs": [
    {
     "data": {
      "text/plain": [
       "array([[11, 12, 13, 14, 15, 16, 17, 18, 19, 20],\n",
       "       [31, 32, 33, 34, 35, 36, 37, 38, 39, 40]])"
      ]
     },
     "execution_count": 94,
     "metadata": {},
     "output_type": "execute_result"
    }
   ],
   "source": [
    "simple_matrix[(1,3),:]"
   ]
  },
  {
   "cell_type": "markdown",
   "id": "bb5937bc-ad47-499e-b5af-aacf4249749a",
   "metadata": {},
   "source": [
    "\n",
    "\n",
    "\n",
    "##### calculate the following values for the given matrix"
   ]
  },
  {
   "cell_type": "markdown",
   "id": "9956ab9d-59c6-4e4f-ad43-ee9756933823",
   "metadata": {},
   "source": [
    "##### a) calculate sum of all the values in the matrix"
   ]
  },
  {
   "cell_type": "code",
   "execution_count": 100,
   "id": "b84d5edb-908a-4b01-a9dc-aea4056329c0",
   "metadata": {},
   "outputs": [
    {
     "data": {
      "text/plain": [
       "5050"
      ]
     },
     "execution_count": 100,
     "metadata": {},
     "output_type": "execute_result"
    }
   ],
   "source": [
    "simple_matrix.sum()"
   ]
  },
  {
   "cell_type": "markdown",
   "id": "8138c1cd-4793-4b13-8d4d-7603b204cfea",
   "metadata": {},
   "source": [
    "##### b) calculate standard  deviation of all the values in the matrix"
   ]
  },
  {
   "cell_type": "code",
   "execution_count": 104,
   "id": "bdff1dee-c668-4984-9036-88aab5b4aa39",
   "metadata": {},
   "outputs": [
    {
     "data": {
      "text/plain": [
       "28.86607004772212"
      ]
     },
     "execution_count": 104,
     "metadata": {},
     "output_type": "execute_result"
    }
   ],
   "source": [
    "simple_matrix.std()"
   ]
  },
  {
   "cell_type": "markdown",
   "id": "ec4ed24e-e604-4964-9920-b33026f07ec3",
   "metadata": {},
   "source": [
    "##### c) calculate the variance of all the values in the matrix"
   ]
  },
  {
   "cell_type": "code",
   "execution_count": 109,
   "id": "74ff33a3-e216-4c5e-b07c-489a93101664",
   "metadata": {},
   "outputs": [
    {
     "data": {
      "text/plain": [
       "833.25"
      ]
     },
     "execution_count": 109,
     "metadata": {},
     "output_type": "execute_result"
    }
   ],
   "source": [
    "simple_matrix.var()"
   ]
  },
  {
   "cell_type": "markdown",
   "id": "4b076de9-55d0-4817-96e1-2e740a8b334a",
   "metadata": {},
   "source": [
    "##### d) calculate the mean of all the values in the matrix"
   ]
  },
  {
   "cell_type": "code",
   "execution_count": 113,
   "id": "6ab49d07-9d16-4d69-8cfe-0d2229cc4318",
   "metadata": {},
   "outputs": [
    {
     "data": {
      "text/plain": [
       "50.5"
      ]
     },
     "execution_count": 113,
     "metadata": {},
     "output_type": "execute_result"
    }
   ],
   "source": [
    "simple_matrix.mean()"
   ]
  },
  {
   "cell_type": "markdown",
   "id": "a8afdbc1-425f-4e72-9e1a-ff59bae23eac",
   "metadata": {},
   "source": [
    "##### e) retrieve the largest number from the matrix"
   ]
  },
  {
   "cell_type": "code",
   "execution_count": 118,
   "id": "b76b57a1-b3ed-43af-b7bb-ec3181d4bb74",
   "metadata": {},
   "outputs": [
    {
     "data": {
      "text/plain": [
       "100"
      ]
     },
     "execution_count": 118,
     "metadata": {},
     "output_type": "execute_result"
    }
   ],
   "source": [
    "simple_matrix.max()"
   ]
  },
  {
   "cell_type": "markdown",
   "id": "e1204a53-7901-4060-a143-ce45e6c75e2f",
   "metadata": {},
   "source": [
    "##### retrieve the smallest number from the matrix\n"
   ]
  },
  {
   "cell_type": "code",
   "execution_count": 123,
   "id": "5bb5b132-610f-444a-9063-16d2642ae223",
   "metadata": {},
   "outputs": [
    {
     "data": {
      "text/plain": [
       "1"
      ]
     },
     "execution_count": 123,
     "metadata": {},
     "output_type": "execute_result"
    }
   ],
   "source": [
    "simple_matrix.min()"
   ]
  },
  {
   "cell_type": "code",
   "execution_count": null,
   "id": "1d6d14a2-dd16-43e3-bc16-08c90a007f5b",
   "metadata": {},
   "outputs": [],
   "source": []
  }
 ],
 "metadata": {
  "kernelspec": {
   "display_name": "Python 3 (ipykernel)",
   "language": "python",
   "name": "python3"
  },
  "language_info": {
   "codemirror_mode": {
    "name": "ipython",
    "version": 3
   },
   "file_extension": ".py",
   "mimetype": "text/x-python",
   "name": "python",
   "nbconvert_exporter": "python",
   "pygments_lexer": "ipython3",
   "version": "3.12.4"
  }
 },
 "nbformat": 4,
 "nbformat_minor": 5
}
